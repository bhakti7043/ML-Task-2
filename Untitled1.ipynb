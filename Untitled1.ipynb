{
 "cells": [
  {
   "cell_type": "code",
   "execution_count": 1,
   "id": "519d517c-38d4-405f-a8f2-8904df35f9ab",
   "metadata": {},
   "outputs": [],
   "source": [
    "import pandas as pd\n",
    "\n",
    "# Load the CSV\n",
    "df = pd.read_csv('product_data.csv')\n",
    "\n",
    "# Rename the column\n",
    "df.rename(columns={'Price': 'Price_n'}, inplace=True)\n",
    "\n",
    "# Save the updated DataFrame back to the CSV\n",
    "df.to_csv('data.csv', index=False)"
   ]
  },
  {
   "cell_type": "code",
   "execution_count": 2,
   "id": "dff44e3d-b1aa-4050-a9eb-7bcf680ac4fc",
   "metadata": {},
   "outputs": [
    {
     "name": "stdout",
     "output_type": "stream",
     "text": [
      "Index(['CustomerID', 'Product', 'Price', 'Quantity', 'City', 'PurchaseDate'], dtype='object')\n"
     ]
    }
   ],
   "source": [
    "df = pd.read_csv('product_data.csv')\n",
    "print(df.columns)"
   ]
  },
  {
   "cell_type": "code",
   "execution_count": 5,
   "id": "e12f6b69-cc52-4cde-bf66-a23b85904540",
   "metadata": {},
   "outputs": [],
   "source": [
    "import pandas as pd\n",
    "\n",
    "# Load the CSV\n",
    "df = pd.read_csv('product_data.csv')\n",
    "\n",
    "# Rename the column\n",
    "df.rename(columns={'Price': 'Price_n'}, inplace=True)\n",
    "\n",
    "# Save the updated DataFrame back to the CSV\n",
    "df.to_csv('product_data.csv', index=False) "
   ]
  },
  {
   "cell_type": "code",
   "execution_count": 6,
   "id": "c304e811-a2c3-4168-bf0a-d3a5c65c38dd",
   "metadata": {},
   "outputs": [
    {
     "name": "stdout",
     "output_type": "stream",
     "text": [
      "Index(['CustomerID', 'Product', 'Price_n', 'Quantity', 'City', 'PurchaseDate'], dtype='object')\n"
     ]
    }
   ],
   "source": [
    "df = pd.read_csv('product_data.csv')\n",
    "print(df.columns)"
   ]
  },
  {
   "cell_type": "code",
   "execution_count": null,
   "id": "8bc2e1e5-2069-4672-9e05-a5a67f21bf74",
   "metadata": {},
   "outputs": [],
   "source": []
  }
 ],
 "metadata": {
  "kernelspec": {
   "display_name": "Python 3 (ipykernel)",
   "language": "python",
   "name": "python3"
  },
  "language_info": {
   "codemirror_mode": {
    "name": "ipython",
    "version": 3
   },
   "file_extension": ".py",
   "mimetype": "text/x-python",
   "name": "python",
   "nbconvert_exporter": "python",
   "pygments_lexer": "ipython3",
   "version": "3.12.10"
  }
 },
 "nbformat": 4,
 "nbformat_minor": 5
}
